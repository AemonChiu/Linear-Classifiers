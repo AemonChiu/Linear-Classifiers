{
 "cells": [
  {
   "cell_type": "code",
   "execution_count": 15,
   "metadata": {},
   "outputs": [
    {
     "name": "stdout",
     "output_type": "stream",
     "text": [
      "The autoreload extension is already loaded. To reload it, use:\n",
      "  %reload_ext autoreload\n"
     ]
    }
   ],
   "source": [
    "import random\n",
    "import numpy as np\n",
    "from data_process import get_FASHION_data, get_MUSHROOM_data\n",
    "from scipy.spatial import distance\n",
    "from models import Perceptron, SVM, Softmax, Logistic\n",
    "from kaggle_submission import output_submission_csv\n",
    "%matplotlib inline\n",
    "\n",
    "# For auto-reloading external modules\n",
    "# See http://stackoverflow.com/questions/1907993/autoreload-of-modules-in-ipython\n",
    "%load_ext autoreload\n",
    "%autoreload 2"
   ]
  },
  {
   "cell_type": "markdown",
   "metadata": {},
   "source": [
    "# Loading Fashion-MNIST"
   ]
  },
  {
   "cell_type": "markdown",
   "metadata": {},
   "source": [
    "In the following cells we determine the number of images for each split and load the images.\n",
    "<br /> \n",
    "TRAIN_IMAGES + VAL_IMAGES = (0, 60000]\n",
    ", TEST_IMAGES = 10000"
   ]
  },
  {
   "cell_type": "code",
   "execution_count": 16,
   "metadata": {},
   "outputs": [],
   "source": [
    "# You can change these numbers for experimentation\n",
    "# For submission we will use the default values \n",
    "TRAIN_IMAGES = 50000\n",
    "VAL_IMAGES = 10000\n",
    "normalize = True"
   ]
  },
  {
   "cell_type": "code",
   "execution_count": 17,
   "metadata": {},
   "outputs": [],
   "source": [
    "data = get_FASHION_data(TRAIN_IMAGES, VAL_IMAGES, normalize=normalize)\n",
    "X_train_fashion, y_train_fashion = data['X_train'], data['y_train']\n",
    "X_val_fashion, y_val_fashion = data['X_val'], data['y_val']\n",
    "X_test_fashion, y_test_fashion = data['X_test'], data['y_test']\n",
    "n_class_fashion = len(np.unique(y_test_fashion))"
   ]
  },
  {
   "cell_type": "markdown",
   "metadata": {},
   "source": [
    "# Loading Mushroom"
   ]
  },
  {
   "cell_type": "markdown",
   "metadata": {},
   "source": [
    "In the following cells we determine the splitting of the mushroom dataset.\n",
    "<br /> TRAINING + VALIDATION = 0.8, TESTING = 0.2"
   ]
  },
  {
   "cell_type": "code",
   "execution_count": 18,
   "metadata": {},
   "outputs": [],
   "source": [
    "# TRAINING = 0.6 indicates 60% of the data is used as the training dataset.\n",
    "VALIDATION = 0.2"
   ]
  },
  {
   "cell_type": "code",
   "execution_count": 19,
   "metadata": {},
   "outputs": [
    {
     "name": "stdout",
     "output_type": "stream",
     "text": [
      "Number of train samples:  4874\n",
      "Number of val samples:  1625\n",
      "Number of test samples:  1625\n"
     ]
    }
   ],
   "source": [
    "data = get_MUSHROOM_data(VALIDATION)\n",
    "X_train_MR, y_train_MR = data['X_train'], data['y_train']\n",
    "X_val_MR, y_val_MR = data['X_val'], data['y_val']\n",
    "X_test_MR, y_test_MR = data['X_test'], data['y_test']\n",
    "n_class_MR = len(np.unique(y_test_MR))\n",
    "\n",
    "print(\"Number of train samples: \", X_train_MR.shape[0])\n",
    "print(\"Number of val samples: \", X_val_MR.shape[0])\n",
    "print(\"Number of test samples: \", X_test_MR.shape[0])"
   ]
  },
  {
   "cell_type": "markdown",
   "metadata": {},
   "source": [
    "### Get Accuracy"
   ]
  },
  {
   "cell_type": "markdown",
   "metadata": {},
   "source": [
    "This function computes how well your model performs using accuracy as a metric."
   ]
  },
  {
   "cell_type": "code",
   "execution_count": 20,
   "metadata": {},
   "outputs": [],
   "source": [
    "def get_acc(pred, y_test):\n",
    "    return np.sum(y_test == pred) / len(y_test) * 100"
   ]
  },
  {
   "cell_type": "markdown",
   "metadata": {},
   "source": [
    "# Perceptron"
   ]
  },
  {
   "cell_type": "markdown",
   "metadata": {},
   "source": [
    "Perceptron has 2 hyperparameters that you can experiment with:\n",
    "- **Learning rate** - controls how much we change the current weights of the classifier during each update. We set it at a default value of 0.5, but you should experiment with different values. We recommend changing the learning rate by factors of 10 and observing how the performance of the classifier changes. You should also try adding a **decay** which slowly reduces the learning rate over each epoch.\n",
    "- **Number of Epochs** - An epoch is a complete iterative pass over all of the data in the dataset. During an epoch we predict a label using the classifier and then update the weights of the classifier according to the perceptron update rule for each sample in the training set. You should try different values for the number of training epochs and report your results."
   ]
  },
  {
   "cell_type": "markdown",
   "metadata": {},
   "source": [
    "You will implement the Perceptron classifier in the **models/perceptron.py**\n",
    "\n",
    "The following code: \n",
    "- Creates an instance of the Perceptron classifier class \n",
    "- The train function of the Perceptron class is trained on the training data\n",
    "- We use the predict function to find the training accuracy as well as the testing accuracy\n"
   ]
  },
  {
   "cell_type": "markdown",
   "metadata": {},
   "source": [
    "## Train Perceptron on Fashion-MNIST"
   ]
  },
  {
   "cell_type": "code",
   "execution_count": 194,
   "metadata": {},
   "outputs": [
    {
     "name": "stdout",
     "output_type": "stream",
     "text": [
      "epoch 1\n",
      "The training accuracy is: 77.574000\n",
      "epoch 2\n",
      "The training accuracy is: 79.788000\n",
      "epoch 3\n",
      "The training accuracy is: 76.232000\n",
      "epoch 4\n",
      "The training accuracy is: 78.882000\n",
      "epoch 5\n",
      "The training accuracy is: 79.030000\n",
      "epoch 6\n",
      "The training accuracy is: 80.246000\n",
      "epoch 7\n",
      "The training accuracy is: 78.408000\n",
      "epoch 8\n",
      "The training accuracy is: 79.098000\n",
      "epoch 9\n",
      "The training accuracy is: 81.442000\n",
      "epoch 10\n",
      "The training accuracy is: 79.300000\n",
      "epoch 11\n",
      "The training accuracy is: 80.472000\n",
      "epoch 12\n",
      "The training accuracy is: 79.686000\n",
      "epoch 13\n",
      "The training accuracy is: 79.042000\n",
      "epoch 14\n",
      "The training accuracy is: 79.440000\n",
      "epoch 15\n",
      "The training accuracy is: 80.756000\n",
      "epoch 16\n",
      "The training accuracy is: 81.080000\n",
      "epoch 17\n",
      "The training accuracy is: 79.534000\n",
      "epoch 18\n",
      "The training accuracy is: 81.334000\n",
      "epoch 19\n",
      "The training accuracy is: 80.572000\n",
      "epoch 20\n",
      "The training accuracy is: 81.312000\n",
      "epoch 21\n",
      "The training accuracy is: 81.034000\n",
      "epoch 22\n",
      "The training accuracy is: 81.052000\n",
      "epoch 23\n",
      "The training accuracy is: 80.856000\n",
      "epoch 24\n",
      "The training accuracy is: 80.868000\n",
      "epoch 25\n",
      "The training accuracy is: 81.374000\n",
      "epoch 26\n",
      "The training accuracy is: 81.834000\n",
      "epoch 27\n",
      "The training accuracy is: 81.754000\n",
      "epoch 28\n",
      "The training accuracy is: 82.776000\n",
      "epoch 29\n",
      "The training accuracy is: 82.160000\n",
      "epoch 30\n",
      "The training accuracy is: 82.466000\n",
      "epoch 31\n",
      "The training accuracy is: 82.402000\n",
      "epoch 32\n",
      "The training accuracy is: 82.498000\n",
      "epoch 33\n",
      "The training accuracy is: 82.504000\n",
      "epoch 34\n",
      "The training accuracy is: 83.228000\n",
      "epoch 35\n",
      "The training accuracy is: 83.164000\n",
      "epoch 36\n",
      "The training accuracy is: 83.548000\n",
      "epoch 37\n",
      "The training accuracy is: 83.482000\n",
      "epoch 38\n",
      "The training accuracy is: 83.316000\n",
      "epoch 39\n",
      "The training accuracy is: 83.762000\n",
      "epoch 40\n",
      "The training accuracy is: 83.678000\n",
      "epoch 41\n",
      "The training accuracy is: 83.852000\n",
      "epoch 42\n",
      "The training accuracy is: 83.622000\n",
      "epoch 43\n",
      "The training accuracy is: 83.884000\n",
      "epoch 44\n",
      "The training accuracy is: 83.858000\n",
      "epoch 45\n",
      "The training accuracy is: 84.030000\n",
      "epoch 46\n",
      "The training accuracy is: 84.140000\n",
      "epoch 47\n",
      "The training accuracy is: 84.156000\n",
      "epoch 48\n",
      "The training accuracy is: 84.246000\n",
      "epoch 49\n",
      "The training accuracy is: 84.218000\n",
      "epoch 50\n",
      "The training accuracy is: 84.182000\n",
      "epoch 51\n",
      "The training accuracy is: 84.266000\n",
      "epoch 52\n",
      "The training accuracy is: 84.322000\n",
      "epoch 53\n",
      "The training accuracy is: 84.432000\n",
      "epoch 54\n",
      "The training accuracy is: 84.456000\n",
      "epoch 55\n",
      "The training accuracy is: 84.438000\n",
      "epoch 56\n",
      "The training accuracy is: 84.476000\n",
      "epoch 57\n",
      "The training accuracy is: 84.456000\n",
      "epoch 58\n",
      "The training accuracy is: 84.464000\n",
      "epoch 59\n",
      "The training accuracy is: 84.466000\n",
      "epoch 60\n",
      "The training accuracy is: 84.476000\n",
      "epoch 61\n",
      "The training accuracy is: 84.476000\n",
      "epoch 62\n",
      "The training accuracy is: 84.484000\n",
      "epoch 63\n",
      "The training accuracy is: 84.458000\n",
      "epoch 64\n",
      "The training accuracy is: 84.442000\n",
      "epoch 65\n",
      "The training accuracy is: 84.454000\n",
      "epoch 66\n",
      "The training accuracy is: 84.510000\n",
      "epoch 67\n",
      "The training accuracy is: 84.506000\n",
      "epoch 68\n",
      "The training accuracy is: 84.504000\n",
      "epoch 69\n",
      "The training accuracy is: 84.488000\n",
      "epoch 70\n",
      "The training accuracy is: 84.458000\n",
      "epoch 71\n",
      "The training accuracy is: 84.454000\n",
      "epoch 72\n",
      "The training accuracy is: 84.440000\n",
      "epoch 73\n",
      "The training accuracy is: 84.406000\n",
      "epoch 74\n",
      "The training accuracy is: 84.414000\n",
      "epoch 75\n",
      "The training accuracy is: 84.420000\n",
      "epoch 76\n",
      "The training accuracy is: 84.440000\n",
      "epoch 77\n",
      "The training accuracy is: 84.420000\n",
      "epoch 78\n",
      "The training accuracy is: 84.462000\n",
      "epoch 79\n",
      "The training accuracy is: 84.464000\n",
      "epoch 80\n",
      "The training accuracy is: 84.460000\n"
     ]
    }
   ],
   "source": [
    "lr = 0.05\n",
    "n_epochs = 80\n",
    "\n",
    "percept_fashion = Perceptron(n_class_fashion, lr, n_epochs)\n",
    "percept_fashion.train(X_train_fashion, y_train_fashion)"
   ]
  },
  {
   "cell_type": "code",
   "execution_count": 195,
   "metadata": {},
   "outputs": [
    {
     "name": "stdout",
     "output_type": "stream",
     "text": [
      "The training accuracy is given by: 84.460000\n"
     ]
    }
   ],
   "source": [
    "pred_percept = percept_fashion.predict(X_train_fashion)\n",
    "print('The training accuracy is given by: %f' % (get_acc(pred_percept, y_train_fashion)))"
   ]
  },
  {
   "cell_type": "markdown",
   "metadata": {},
   "source": [
    "### Validate Perceptron on Fashion-MNIST"
   ]
  },
  {
   "cell_type": "code",
   "execution_count": 196,
   "metadata": {},
   "outputs": [
    {
     "name": "stdout",
     "output_type": "stream",
     "text": [
      "The validation accuracy is given by: 79.850000\n"
     ]
    }
   ],
   "source": [
    "pred_percept = percept_fashion.predict(X_val_fashion)\n",
    "print('The validation accuracy is given by: %f' % (get_acc(pred_percept, y_val_fashion)))"
   ]
  },
  {
   "cell_type": "markdown",
   "metadata": {},
   "source": [
    "### Test Perceptron on Fashion-MNIST"
   ]
  },
  {
   "cell_type": "code",
   "execution_count": 197,
   "metadata": {},
   "outputs": [
    {
     "name": "stdout",
     "output_type": "stream",
     "text": [
      "The testing accuracy is given by: 79.520000\n"
     ]
    }
   ],
   "source": [
    "pred_percept = percept_fashion.predict(X_test_fashion)\n",
    "print('The testing accuracy is given by: %f' % (get_acc(pred_percept, y_test_fashion)))"
   ]
  },
  {
   "cell_type": "markdown",
   "metadata": {},
   "source": [
    "### Perceptron_Fashion-MNIST Kaggle Submission\n",
    "\n",
    "Once you are satisfied with your solution and test accuracy, output a file to submit your test set predictions to the Kaggle for Assignment 1 Fashion-MNIST. Use the following code to do so:"
   ]
  },
  {
   "cell_type": "code",
   "execution_count": 198,
   "metadata": {},
   "outputs": [],
   "source": [
    "output_submission_csv('kaggle/perceptron_submission_fashion.csv', percept_fashion.predict(X_test_fashion))"
   ]
  },
  {
   "cell_type": "markdown",
   "metadata": {},
   "source": [
    "## Train Perceptron on Mushroom"
   ]
  },
  {
   "cell_type": "code",
   "execution_count": 203,
   "metadata": {},
   "outputs": [
    {
     "name": "stdout",
     "output_type": "stream",
     "text": [
      "epoch 1\n",
      "The training accuracy is: 65.059499\n",
      "epoch 2\n",
      "The training accuracy is: 79.318835\n",
      "epoch 3\n",
      "The training accuracy is: 81.042265\n",
      "epoch 4\n",
      "The training accuracy is: 88.428396\n",
      "epoch 5\n",
      "The training accuracy is: 82.416906\n",
      "epoch 6\n",
      "The training accuracy is: 87.217891\n",
      "epoch 7\n",
      "The training accuracy is: 88.079606\n",
      "epoch 8\n",
      "The training accuracy is: 89.864588\n",
      "epoch 9\n",
      "The training accuracy is: 83.381206\n",
      "epoch 10\n",
      "The training accuracy is: 92.018876\n",
      "epoch 11\n",
      "The training accuracy is: 85.945835\n",
      "epoch 12\n",
      "The training accuracy is: 84.366024\n",
      "epoch 13\n",
      "The training accuracy is: 88.325810\n",
      "epoch 14\n",
      "The training accuracy is: 83.299138\n",
      "epoch 15\n",
      "The training accuracy is: 85.043086\n",
      "epoch 16\n",
      "The training accuracy is: 84.735330\n",
      "epoch 17\n",
      "The training accuracy is: 92.613870\n",
      "epoch 18\n",
      "The training accuracy is: 88.797702\n",
      "epoch 19\n",
      "The training accuracy is: 83.873615\n",
      "epoch 20\n",
      "The training accuracy is: 85.145671\n",
      "epoch 21\n",
      "The training accuracy is: 91.690603\n",
      "epoch 22\n",
      "The training accuracy is: 93.762823\n",
      "epoch 23\n",
      "The training accuracy is: 88.613049\n",
      "epoch 24\n",
      "The training accuracy is: 95.445220\n",
      "epoch 25\n",
      "The training accuracy is: 92.388182\n",
      "epoch 26\n",
      "The training accuracy is: 90.562167\n",
      "epoch 27\n",
      "The training accuracy is: 90.664752\n",
      "epoch 28\n",
      "The training accuracy is: 93.803857\n",
      "epoch 29\n",
      "The training accuracy is: 92.778006\n",
      "epoch 30\n",
      "The training accuracy is: 95.568322\n",
      "epoch 31\n",
      "The training accuracy is: 96.347969\n",
      "epoch 32\n",
      "The training accuracy is: 96.060730\n",
      "epoch 33\n",
      "The training accuracy is: 94.009027\n",
      "epoch 34\n",
      "The training accuracy is: 94.727124\n",
      "epoch 35\n",
      "The training accuracy is: 95.424703\n",
      "epoch 36\n",
      "The training accuracy is: 95.917111\n",
      "epoch 37\n",
      "The training accuracy is: 95.609356\n",
      "epoch 38\n",
      "The training accuracy is: 95.835043\n",
      "epoch 39\n",
      "The training accuracy is: 95.855560\n",
      "epoch 40\n",
      "The training accuracy is: 95.732458\n",
      "epoch 41\n",
      "The training accuracy is: 95.609356\n",
      "epoch 42\n",
      "The training accuracy is: 95.814526\n",
      "epoch 43\n",
      "The training accuracy is: 95.609356\n",
      "epoch 44\n",
      "The training accuracy is: 95.650390\n",
      "epoch 45\n",
      "The training accuracy is: 95.588839\n",
      "epoch 46\n",
      "The training accuracy is: 95.588839\n",
      "epoch 47\n",
      "The training accuracy is: 95.629873\n",
      "epoch 48\n",
      "The training accuracy is: 95.629873\n",
      "epoch 49\n",
      "The training accuracy is: 95.486254\n",
      "epoch 50\n",
      "The training accuracy is: 95.465737\n"
     ]
    }
   ],
   "source": [
    "lr = 0.05\n",
    "n_epochs = 50\n",
    "\n",
    "percept_MR = Perceptron(n_class_MR, lr, n_epochs)\n",
    "percept_MR.train(X_train_MR, y_train_MR)"
   ]
  },
  {
   "cell_type": "code",
   "execution_count": 204,
   "metadata": {},
   "outputs": [
    {
     "name": "stdout",
     "output_type": "stream",
     "text": [
      "The training accuracy is given by: 95.465737\n"
     ]
    }
   ],
   "source": [
    "pred_percept = percept_MR.predict(X_train_MR)\n",
    "print('The training accuracy is given by: %f' % (get_acc(pred_percept, y_train_MR)))"
   ]
  },
  {
   "cell_type": "markdown",
   "metadata": {},
   "source": [
    "### Validate Perceptron on Mushroom"
   ]
  },
  {
   "cell_type": "code",
   "execution_count": 205,
   "metadata": {},
   "outputs": [
    {
     "name": "stdout",
     "output_type": "stream",
     "text": [
      "The validation accuracy is given by: 94.584615\n"
     ]
    }
   ],
   "source": [
    "pred_percept = percept_MR.predict(X_val_MR)\n",
    "print('The validation accuracy is given by: %f' % (get_acc(pred_percept, y_val_MR)))"
   ]
  },
  {
   "cell_type": "markdown",
   "metadata": {},
   "source": [
    "### Test Perceptron on Mushroom"
   ]
  },
  {
   "cell_type": "code",
   "execution_count": 206,
   "metadata": {},
   "outputs": [
    {
     "name": "stdout",
     "output_type": "stream",
     "text": [
      "The testing accuracy is given by: 94.892308\n"
     ]
    }
   ],
   "source": [
    "pred_percept = percept_MR.predict(X_test_MR)\n",
    "print('The testing accuracy is given by: %f' % (get_acc(pred_percept, y_test_MR)))"
   ]
  },
  {
   "cell_type": "markdown",
   "metadata": {},
   "source": [
    "# Support Vector Machines (with SGD)"
   ]
  },
  {
   "cell_type": "markdown",
   "metadata": {},
   "source": [
    "Next, you will implement a \"soft margin\" SVM. In this formulation you will maximize the margin between positive and negative training examples and penalize margin violations using a hinge loss.\n",
    "\n",
    "We will optimize the SVM loss using SGD. This means you must compute the loss function with respect to model weights. You will use this gradient to update the model weights.\n",
    "\n",
    "SVM optimized with SGD has 3 hyperparameters that you can experiment with:\n",
    "- **Learning rate** - similar to as defined above in Perceptron, this parameter scales by how much the weights are changed according to the calculated gradient update. \n",
    "- **Epochs** - similar to as defined above in Perceptron.\n",
    "- **Regularization constant** - Hyperparameter to determine the strength of regularization. In this case it is a coefficient on the term which maximizes the margin. You could try different values. The default value is set to 0.05."
   ]
  },
  {
   "cell_type": "markdown",
   "metadata": {},
   "source": [
    "You will implement the SVM using SGD in the **models/svm.py**\n",
    "\n",
    "The following code: \n",
    "- Creates an instance of the SVM classifier class \n",
    "- The train function of the SVM class is trained on the training data\n",
    "- We use the predict function to find the training accuracy as well as the testing accuracy"
   ]
  },
  {
   "cell_type": "markdown",
   "metadata": {},
   "source": [
    "## Train SVM on Fashion-MNIST"
   ]
  },
  {
   "cell_type": "code",
   "execution_count": 179,
   "metadata": {},
   "outputs": [
    {
     "name": "stdout",
     "output_type": "stream",
     "text": [
      "41\n",
      "epoch 1\n",
      "The training accuracy is: 80.410000\n",
      "epoch 2\n",
      "The training accuracy is: 81.756000\n",
      "epoch 3\n",
      "The training accuracy is: 82.726000\n",
      "epoch 4\n",
      "The training accuracy is: 83.152000\n",
      "epoch 5\n",
      "The training accuracy is: 83.626000\n",
      "epoch 6\n",
      "The training accuracy is: 83.988000\n",
      "epoch 7\n",
      "The training accuracy is: 84.312000\n",
      "epoch 8\n",
      "The training accuracy is: 84.676000\n",
      "epoch 9\n",
      "The training accuracy is: 84.582000\n",
      "epoch 10\n",
      "The training accuracy is: 84.876000\n",
      "epoch 11\n",
      "The training accuracy is: 84.698000\n",
      "epoch 12\n",
      "The training accuracy is: 85.112000\n",
      "epoch 13\n",
      "The training accuracy is: 85.382000\n",
      "epoch 14\n",
      "The training accuracy is: 85.398000\n",
      "epoch 15\n",
      "The training accuracy is: 85.522000\n",
      "epoch 16\n",
      "The training accuracy is: 85.744000\n",
      "epoch 17\n",
      "The training accuracy is: 85.670000\n",
      "epoch 18\n",
      "The training accuracy is: 85.674000\n",
      "epoch 19\n",
      "The training accuracy is: 85.986000\n",
      "epoch 20\n",
      "The training accuracy is: 85.962000\n",
      "epoch 21\n",
      "The training accuracy is: 86.012000\n",
      "epoch 22\n",
      "The training accuracy is: 86.130000\n",
      "epoch 23\n",
      "The training accuracy is: 86.140000\n",
      "epoch 24\n",
      "The training accuracy is: 86.076000\n",
      "epoch 25\n",
      "The training accuracy is: 86.182000\n",
      "epoch 26\n",
      "The training accuracy is: 86.158000\n",
      "epoch 27\n",
      "The training accuracy is: 86.228000\n",
      "epoch 28\n",
      "The training accuracy is: 86.224000\n",
      "epoch 29\n",
      "The training accuracy is: 86.288000\n",
      "epoch 30\n",
      "The training accuracy is: 86.356000\n",
      "epoch 31\n",
      "The training accuracy is: 86.412000\n",
      "epoch 32\n",
      "The training accuracy is: 86.368000\n",
      "epoch 33\n",
      "The training accuracy is: 86.406000\n",
      "epoch 34\n",
      "The training accuracy is: 86.504000\n",
      "epoch 35\n",
      "The training accuracy is: 86.540000\n",
      "epoch 36\n",
      "The training accuracy is: 86.578000\n",
      "epoch 37\n",
      "The training accuracy is: 86.592000\n",
      "epoch 38\n",
      "The training accuracy is: 86.610000\n",
      "epoch 39\n",
      "The training accuracy is: 86.680000\n",
      "epoch 40\n",
      "The training accuracy is: 86.688000\n",
      "epoch 41\n",
      "The training accuracy is: 86.698000\n",
      "epoch 42\n",
      "The training accuracy is: 86.750000\n",
      "epoch 43\n",
      "The training accuracy is: 86.784000\n",
      "epoch 44\n",
      "The training accuracy is: 86.790000\n",
      "epoch 45\n",
      "The training accuracy is: 86.804000\n",
      "epoch 46\n",
      "The training accuracy is: 86.868000\n",
      "epoch 47\n",
      "The training accuracy is: 86.842000\n",
      "epoch 48\n",
      "The training accuracy is: 86.880000\n",
      "epoch 49\n",
      "The training accuracy is: 86.908000\n",
      "epoch 50\n",
      "The training accuracy is: 86.948000\n",
      "epoch 51\n",
      "The training accuracy is: 86.962000\n",
      "epoch 52\n",
      "The training accuracy is: 86.984000\n",
      "epoch 53\n",
      "The training accuracy is: 87.006000\n",
      "epoch 54\n",
      "The training accuracy is: 87.022000\n",
      "epoch 55\n",
      "The training accuracy is: 87.062000\n",
      "epoch 56\n",
      "The training accuracy is: 87.086000\n",
      "epoch 57\n",
      "The training accuracy is: 87.090000\n",
      "epoch 58\n",
      "The training accuracy is: 87.102000\n",
      "epoch 59\n",
      "The training accuracy is: 87.086000\n",
      "epoch 60\n",
      "The training accuracy is: 87.124000\n",
      "epoch 61\n",
      "The training accuracy is: 87.128000\n",
      "epoch 62\n",
      "The training accuracy is: 87.142000\n",
      "epoch 63\n",
      "The training accuracy is: 87.154000\n",
      "epoch 64\n",
      "The training accuracy is: 87.164000\n",
      "epoch 65\n",
      "The training accuracy is: 87.142000\n",
      "epoch 66\n",
      "The training accuracy is: 87.140000\n",
      "epoch 67\n",
      "The training accuracy is: 87.128000\n",
      "epoch 68\n",
      "The training accuracy is: 87.136000\n",
      "epoch 69\n",
      "The training accuracy is: 87.128000\n",
      "epoch 70\n",
      "The training accuracy is: 87.118000\n",
      "epoch 71\n",
      "The training accuracy is: 87.106000\n",
      "epoch 72\n",
      "The training accuracy is: 87.124000\n",
      "epoch 73\n",
      "The training accuracy is: 87.138000\n",
      "epoch 74\n",
      "The training accuracy is: 87.136000\n",
      "epoch 75\n",
      "The training accuracy is: 87.140000\n",
      "epoch 76\n",
      "The training accuracy is: 87.140000\n",
      "epoch 77\n",
      "The training accuracy is: 87.138000\n",
      "epoch 78\n",
      "The training accuracy is: 87.120000\n",
      "epoch 79\n",
      "The training accuracy is: 87.124000\n",
      "epoch 80\n",
      "The training accuracy is: 87.144000\n",
      "epoch 81\n",
      "The training accuracy is: 87.156000\n",
      "epoch 82\n",
      "The training accuracy is: 87.168000\n",
      "epoch 83\n",
      "The training accuracy is: 87.160000\n",
      "epoch 84\n",
      "The training accuracy is: 87.158000\n",
      "epoch 85\n",
      "The training accuracy is: 87.158000\n",
      "epoch 86\n",
      "The training accuracy is: 87.148000\n",
      "epoch 87\n",
      "The training accuracy is: 87.166000\n",
      "epoch 88\n",
      "The training accuracy is: 87.152000\n",
      "epoch 89\n",
      "The training accuracy is: 87.162000\n",
      "epoch 90\n",
      "The training accuracy is: 87.174000\n",
      "epoch 91\n",
      "The training accuracy is: 87.184000\n",
      "epoch 92\n",
      "The training accuracy is: 87.186000\n",
      "epoch 93\n",
      "The training accuracy is: 87.202000\n",
      "epoch 94\n",
      "The training accuracy is: 87.196000\n",
      "epoch 95\n",
      "The training accuracy is: 87.202000\n",
      "epoch 96\n",
      "The training accuracy is: 87.200000\n",
      "epoch 97\n",
      "The training accuracy is: 87.206000\n",
      "epoch 98\n",
      "The training accuracy is: 87.200000\n",
      "epoch 99\n",
      "The training accuracy is: 87.210000\n",
      "epoch 100\n",
      "The training accuracy is: 87.210000\n"
     ]
    }
   ],
   "source": [
    "lr = 0.0000001\n",
    "n_epochs = 100\n",
    "reg_const = 0.125\n",
    "\n",
    "svm_fashion = SVM(n_class_fashion, lr, n_epochs, reg_const)\n",
    "svm_fashion.train(X_train_fashion, y_train_fashion)"
   ]
  },
  {
   "cell_type": "code",
   "execution_count": 180,
   "metadata": {},
   "outputs": [
    {
     "name": "stdout",
     "output_type": "stream",
     "text": [
      "The training accuracy is given by: 87.210000\n"
     ]
    }
   ],
   "source": [
    "pred_svm = svm_fashion.predict(X_train_fashion)\n",
    "print('The training accuracy is given by: %f' % (get_acc(pred_svm, y_train_fashion)))"
   ]
  },
  {
   "cell_type": "markdown",
   "metadata": {},
   "source": [
    "### Validate SVM on Fashion-MNIST"
   ]
  },
  {
   "cell_type": "code",
   "execution_count": 181,
   "metadata": {},
   "outputs": [
    {
     "name": "stdout",
     "output_type": "stream",
     "text": [
      "The validation accuracy is given by: 83.640000\n"
     ]
    }
   ],
   "source": [
    "pred_svm = svm_fashion.predict(X_val_fashion)\n",
    "print('The validation accuracy is given by: %f' % (get_acc(pred_svm, y_val_fashion)))"
   ]
  },
  {
   "cell_type": "markdown",
   "metadata": {},
   "source": [
    "### Test SVM on Fashion-MNIST"
   ]
  },
  {
   "cell_type": "code",
   "execution_count": 182,
   "metadata": {},
   "outputs": [
    {
     "name": "stdout",
     "output_type": "stream",
     "text": [
      "The testing accuracy is given by: 82.750000\n"
     ]
    }
   ],
   "source": [
    "pred_svm = svm_fashion.predict(X_test_fashion)\n",
    "print('The testing accuracy is given by: %f' % (get_acc(pred_svm, y_test_fashion)))"
   ]
  },
  {
   "cell_type": "markdown",
   "metadata": {},
   "source": [
    "### SVM_Fashion-MNIST Kaggle Submission\n",
    "\n",
    "Once you are satisfied with your solution and test accuracy output a file to submit your test set predictions to the Kaggle for Assignment 1 Fashion-MNIST. Use the following code to do so:"
   ]
  },
  {
   "cell_type": "code",
   "execution_count": 158,
   "metadata": {},
   "outputs": [],
   "source": [
    "output_submission_csv('kaggle/svm_submission_fashion.csv', svm_fashion.predict(X_test_fashion))"
   ]
  },
  {
   "cell_type": "markdown",
   "metadata": {},
   "source": [
    "## Train SVM on Mushroom"
   ]
  },
  {
   "cell_type": "code",
   "execution_count": 209,
   "metadata": {},
   "outputs": [
    {
     "name": "stdout",
     "output_type": "stream",
     "text": [
      "4\n",
      "epoch 1\n",
      "The training accuracy is: 91.075092\n",
      "epoch 2\n",
      "The training accuracy is: 93.003693\n",
      "epoch 3\n",
      "The training accuracy is: 93.926959\n",
      "epoch 4\n",
      "The training accuracy is: 94.973328\n",
      "epoch 5\n",
      "The training accuracy is: 95.547805\n",
      "epoch 6\n",
      "The training accuracy is: 95.199015\n",
      "epoch 7\n",
      "The training accuracy is: 94.501436\n",
      "epoch 8\n",
      "The training accuracy is: 94.686089\n",
      "epoch 9\n",
      "The training accuracy is: 95.445220\n",
      "epoch 10\n",
      "The training accuracy is: 94.829709\n",
      "epoch 11\n",
      "The training accuracy is: 95.363151\n",
      "epoch 12\n",
      "The training accuracy is: 94.645055\n",
      "epoch 13\n",
      "The training accuracy is: 94.891260\n",
      "epoch 14\n",
      "The training accuracy is: 95.424703\n",
      "epoch 15\n",
      "The training accuracy is: 94.562987\n",
      "epoch 16\n",
      "The training accuracy is: 95.445220\n",
      "epoch 17\n",
      "The training accuracy is: 94.645055\n",
      "epoch 18\n",
      "The training accuracy is: 95.773492\n",
      "epoch 19\n",
      "The training accuracy is: 95.609356\n",
      "epoch 20\n",
      "The training accuracy is: 95.116947\n",
      "epoch 21\n",
      "The training accuracy is: 95.383668\n",
      "epoch 22\n",
      "The training accuracy is: 95.711941\n",
      "epoch 23\n",
      "The training accuracy is: 95.629873\n",
      "epoch 24\n",
      "The training accuracy is: 95.835043\n",
      "epoch 25\n",
      "The training accuracy is: 96.163316\n",
      "epoch 26\n",
      "The training accuracy is: 95.711941\n",
      "epoch 27\n",
      "The training accuracy is: 96.286418\n",
      "epoch 28\n",
      "The training accuracy is: 96.286418\n",
      "epoch 29\n",
      "The training accuracy is: 96.204350\n",
      "epoch 30\n",
      "The training accuracy is: 96.101764\n",
      "epoch 31\n",
      "The training accuracy is: 96.224867\n",
      "epoch 32\n",
      "The training accuracy is: 96.101764\n",
      "epoch 33\n",
      "The training accuracy is: 96.122281\n",
      "epoch 34\n",
      "The training accuracy is: 96.101764\n",
      "epoch 35\n",
      "The training accuracy is: 96.553139\n",
      "epoch 36\n",
      "The training accuracy is: 96.471071\n",
      "epoch 37\n",
      "The training accuracy is: 96.594173\n",
      "epoch 38\n",
      "The training accuracy is: 96.696758\n",
      "epoch 39\n",
      "The training accuracy is: 96.491588\n",
      "epoch 40\n",
      "The training accuracy is: 96.717275\n",
      "epoch 41\n",
      "The training accuracy is: 96.676241\n",
      "epoch 42\n",
      "The training accuracy is: 96.717275\n",
      "epoch 43\n",
      "The training accuracy is: 96.676241\n",
      "epoch 44\n",
      "The training accuracy is: 96.778826\n",
      "epoch 45\n",
      "The training accuracy is: 96.758309\n",
      "epoch 46\n",
      "The training accuracy is: 96.860895\n",
      "epoch 47\n",
      "The training accuracy is: 96.922446\n",
      "epoch 48\n",
      "The training accuracy is: 96.881412\n",
      "epoch 49\n",
      "The training accuracy is: 96.963480\n",
      "epoch 50\n",
      "The training accuracy is: 97.066065\n",
      "epoch 51\n",
      "The training accuracy is: 97.148133\n",
      "epoch 52\n",
      "The training accuracy is: 97.066065\n",
      "epoch 53\n",
      "The training accuracy is: 97.086582\n",
      "epoch 54\n",
      "The training accuracy is: 97.086582\n",
      "epoch 55\n",
      "The training accuracy is: 97.045548\n",
      "epoch 56\n",
      "The training accuracy is: 97.025031\n",
      "epoch 57\n",
      "The training accuracy is: 97.107099\n",
      "epoch 58\n",
      "The training accuracy is: 97.086582\n",
      "epoch 59\n",
      "The training accuracy is: 97.066065\n",
      "epoch 60\n",
      "The training accuracy is: 97.107099\n",
      "epoch 61\n",
      "The training accuracy is: 97.086582\n",
      "epoch 62\n",
      "The training accuracy is: 97.168650\n",
      "epoch 63\n",
      "The training accuracy is: 97.148133\n",
      "epoch 64\n",
      "The training accuracy is: 97.168650\n",
      "epoch 65\n",
      "The training accuracy is: 97.086582\n",
      "epoch 66\n",
      "The training accuracy is: 97.127616\n",
      "epoch 67\n",
      "The training accuracy is: 97.066065\n",
      "epoch 68\n",
      "The training accuracy is: 97.148133\n",
      "epoch 69\n",
      "The training accuracy is: 97.209684\n",
      "epoch 70\n",
      "The training accuracy is: 97.168650\n",
      "epoch 71\n",
      "The training accuracy is: 97.209684\n",
      "epoch 72\n",
      "The training accuracy is: 97.168650\n",
      "epoch 73\n",
      "The training accuracy is: 97.189167\n",
      "epoch 74\n",
      "The training accuracy is: 97.209684\n",
      "epoch 75\n",
      "The training accuracy is: 97.148133\n",
      "epoch 76\n",
      "The training accuracy is: 97.250718\n",
      "epoch 77\n",
      "The training accuracy is: 97.291752\n",
      "epoch 78\n",
      "The training accuracy is: 97.271235\n",
      "epoch 79\n",
      "The training accuracy is: 97.291752\n",
      "epoch 80\n",
      "The training accuracy is: 97.291752\n",
      "epoch 81\n",
      "The training accuracy is: 97.291752\n",
      "epoch 82\n",
      "The training accuracy is: 97.332786\n",
      "epoch 83\n",
      "The training accuracy is: 97.291752\n",
      "epoch 84\n",
      "The training accuracy is: 97.373820\n",
      "epoch 85\n",
      "The training accuracy is: 97.353303\n",
      "epoch 86\n",
      "The training accuracy is: 97.373820\n",
      "epoch 87\n",
      "The training accuracy is: 97.373820\n",
      "epoch 88\n",
      "The training accuracy is: 97.291752\n",
      "epoch 89\n",
      "The training accuracy is: 97.291752\n",
      "epoch 90\n",
      "The training accuracy is: 97.271235\n",
      "epoch 91\n",
      "The training accuracy is: 97.291752\n",
      "epoch 92\n",
      "The training accuracy is: 97.271235\n",
      "epoch 93\n",
      "The training accuracy is: 97.291752\n",
      "epoch 94\n",
      "The training accuracy is: 97.291752\n",
      "epoch 95\n",
      "The training accuracy is: 97.312269\n",
      "epoch 96\n",
      "The training accuracy is: 97.271235\n",
      "epoch 97\n",
      "The training accuracy is: 97.291752\n",
      "epoch 98\n",
      "The training accuracy is: 97.312269\n",
      "epoch 99\n",
      "The training accuracy is: 97.291752\n",
      "epoch 100\n",
      "The training accuracy is: 97.312269\n"
     ]
    }
   ],
   "source": [
    "lr = 0.01\n",
    "n_epochs = 100\n",
    "reg_const = 0.125\n",
    "\n",
    "svm_MR = SVM(n_class_MR, lr, n_epochs, reg_const)\n",
    "svm_MR.train(X_train_MR, y_train_MR)"
   ]
  },
  {
   "cell_type": "code",
   "execution_count": 210,
   "metadata": {},
   "outputs": [
    {
     "name": "stdout",
     "output_type": "stream",
     "text": [
      "The training accuracy is given by: 97.312269\n"
     ]
    }
   ],
   "source": [
    "pred_svm = svm_MR.predict(X_train_MR)\n",
    "print('The training accuracy is given by: %f' % (get_acc(pred_svm, y_train_MR)))"
   ]
  },
  {
   "cell_type": "markdown",
   "metadata": {},
   "source": [
    "### Validate SVM on Mushroom"
   ]
  },
  {
   "cell_type": "code",
   "execution_count": 211,
   "metadata": {},
   "outputs": [
    {
     "name": "stdout",
     "output_type": "stream",
     "text": [
      "The validation accuracy is given by: 97.046154\n"
     ]
    }
   ],
   "source": [
    "pred_svm = svm_MR.predict(X_val_MR)\n",
    "print('The validation accuracy is given by: %f' % (get_acc(pred_svm, y_val_MR)))"
   ]
  },
  {
   "cell_type": "markdown",
   "metadata": {},
   "source": [
    "## Test SVM on Mushroom"
   ]
  },
  {
   "cell_type": "code",
   "execution_count": 212,
   "metadata": {},
   "outputs": [
    {
     "name": "stdout",
     "output_type": "stream",
     "text": [
      "The testing accuracy is given by: 96.984615\n"
     ]
    }
   ],
   "source": [
    "pred_svm = svm_MR.predict(X_test_MR)\n",
    "print('The testing accuracy is given by: %f' % (get_acc(pred_svm, y_test_MR)))"
   ]
  },
  {
   "cell_type": "markdown",
   "metadata": {},
   "source": [
    "# Softmax Classifier (with SGD)"
   ]
  },
  {
   "cell_type": "markdown",
   "metadata": {
    "collapsed": true
   },
   "source": [
    "Next, you will train a Softmax classifier. This classifier consists of a linear function of the input data followed by a softmax function which outputs a vector of dimension C (number of classes) for each data point. Each entry of the softmax output vector corresponds to a confidence in one of the C classes, and like a probability distribution, the entries of the output vector sum to 1. We use a cross-entropy loss on this sotmax output to train the model. \n",
    "\n",
    "Check the following link as an additional resource on softmax classification: http://cs231n.github.io/linear-classify/#softmax\n",
    "\n",
    "Once again we will train the classifier with SGD. This means you need to compute the gradients of the softmax cross-entropy loss function according to the weights and update the weights using this gradient. Check the following link to help with implementing the gradient updates: https://deepnotes.io/softmax-crossentropy"
   ]
  },
  {
   "cell_type": "markdown",
   "metadata": {},
   "source": [
    "The softmax classifier has 3 hyperparameters that you can experiment with:\n",
    "- **Learning rate** - As above, this controls how much the model weights are updated with respect to their gradient.\n",
    "- **Number of Epochs** - As described for perceptron.\n",
    "- **Regularization constant** - Hyperparameter to determine the strength of regularization. In this case, we minimize the L2 norm of the model weights as regularization, so the regularization constant is a coefficient on the L2 norm in the combined cross-entropy and regularization objective."
   ]
  },
  {
   "cell_type": "markdown",
   "metadata": {},
   "source": [
    "You will implement a softmax classifier using SGD in the **models/softmax.py**\n",
    "\n",
    "The following code: \n",
    "- Creates an instance of the Softmax classifier class \n",
    "- The train function of the Softmax class is trained on the training data\n",
    "- We use the predict function to find the training accuracy as well as the testing accuracy"
   ]
  },
  {
   "cell_type": "markdown",
   "metadata": {},
   "source": [
    "## Train Softmax on Fashion-MNIST"
   ]
  },
  {
   "cell_type": "code",
   "execution_count": 228,
   "metadata": {},
   "outputs": [
    {
     "name": "stdout",
     "output_type": "stream",
     "text": [
      "41\n",
      "epoch: 1\n",
      "The training accuracy is: 73.352000\n",
      "epoch: 2\n",
      "The training accuracy is: 78.686000\n",
      "epoch: 3\n",
      "The training accuracy is: 73.216000\n",
      "epoch: 4\n",
      "The training accuracy is: 76.814000\n",
      "epoch: 5\n",
      "The training accuracy is: 79.594000\n",
      "epoch: 6\n",
      "The training accuracy is: 83.442000\n",
      "epoch: 7\n",
      "The training accuracy is: 79.984000\n",
      "epoch: 8\n",
      "The training accuracy is: 80.340000\n",
      "epoch: 9\n",
      "The training accuracy is: 82.724000\n",
      "epoch: 10\n",
      "The training accuracy is: 84.210000\n",
      "epoch: 11\n",
      "The training accuracy is: 84.672000\n",
      "epoch: 12\n",
      "The training accuracy is: 84.356000\n",
      "epoch: 13\n",
      "The training accuracy is: 83.852000\n",
      "epoch: 14\n",
      "The training accuracy is: 84.908000\n",
      "epoch: 15\n",
      "The training accuracy is: 84.822000\n",
      "epoch: 16\n",
      "The training accuracy is: 85.008000\n",
      "epoch: 17\n",
      "The training accuracy is: 85.236000\n",
      "epoch: 18\n",
      "The training accuracy is: 85.270000\n",
      "epoch: 19\n",
      "The training accuracy is: 85.304000\n",
      "epoch: 20\n",
      "The training accuracy is: 85.320000\n",
      "epoch: 21\n",
      "The training accuracy is: 85.368000\n",
      "epoch: 22\n",
      "The training accuracy is: 85.398000\n",
      "epoch: 23\n",
      "The training accuracy is: 85.432000\n",
      "epoch: 24\n",
      "The training accuracy is: 85.472000\n",
      "epoch: 25\n",
      "The training accuracy is: 85.450000\n",
      "epoch: 26\n",
      "The training accuracy is: 85.436000\n",
      "epoch: 27\n",
      "The training accuracy is: 85.430000\n",
      "epoch: 28\n",
      "The training accuracy is: 85.410000\n",
      "epoch: 29\n",
      "The training accuracy is: 85.408000\n",
      "epoch: 30\n",
      "The training accuracy is: 85.442000\n",
      "epoch: 31\n",
      "The training accuracy is: 85.444000\n",
      "epoch: 32\n",
      "The training accuracy is: 85.456000\n",
      "epoch: 33\n",
      "The training accuracy is: 85.474000\n",
      "epoch: 34\n",
      "The training accuracy is: 85.480000\n",
      "epoch: 35\n",
      "The training accuracy is: 85.478000\n",
      "epoch: 36\n",
      "The training accuracy is: 85.484000\n",
      "epoch: 37\n",
      "The training accuracy is: 85.486000\n",
      "epoch: 38\n",
      "The training accuracy is: 85.456000\n",
      "epoch: 39\n",
      "The training accuracy is: 85.472000\n",
      "epoch: 40\n",
      "The training accuracy is: 85.474000\n",
      "epoch: 41\n",
      "The training accuracy is: 85.474000\n",
      "epoch: 42\n",
      "The training accuracy is: 85.460000\n",
      "epoch: 43\n",
      "The training accuracy is: 85.464000\n",
      "epoch: 44\n",
      "The training accuracy is: 85.458000\n",
      "epoch: 45\n",
      "The training accuracy is: 85.452000\n",
      "epoch: 46\n",
      "The training accuracy is: 85.444000\n",
      "epoch: 47\n",
      "The training accuracy is: 85.444000\n",
      "epoch: 48\n",
      "The training accuracy is: 85.446000\n",
      "epoch: 49\n",
      "The training accuracy is: 85.456000\n",
      "epoch: 50\n",
      "The training accuracy is: 85.454000\n",
      "epoch: 51\n",
      "The training accuracy is: 85.456000\n",
      "epoch: 52\n",
      "The training accuracy is: 85.456000\n",
      "epoch: 53\n",
      "The training accuracy is: 85.456000\n",
      "epoch: 54\n",
      "The training accuracy is: 85.452000\n",
      "epoch: 55\n",
      "The training accuracy is: 85.454000\n",
      "epoch: 56\n",
      "The training accuracy is: 85.450000\n",
      "epoch: 57\n",
      "The training accuracy is: 85.448000\n",
      "epoch: 58\n",
      "The training accuracy is: 85.448000\n",
      "epoch: 59\n",
      "The training accuracy is: 85.446000\n",
      "epoch: 60\n",
      "The training accuracy is: 85.448000\n"
     ]
    }
   ],
   "source": [
    "lr = 0.005\n",
    "n_epochs = 60\n",
    "reg_const = 0.1\n",
    "\n",
    "softmax_fashion = Softmax(n_class_fashion, lr, n_epochs, reg_const)\n",
    "softmax_fashion.train(X_train_fashion, y_train_fashion)"
   ]
  },
  {
   "cell_type": "code",
   "execution_count": 229,
   "metadata": {},
   "outputs": [
    {
     "name": "stdout",
     "output_type": "stream",
     "text": [
      "The training accuracy is given by: 85.448000\n"
     ]
    }
   ],
   "source": [
    "pred_softmax = softmax_fashion.predict(X_train_fashion)\n",
    "print('The training accuracy is given by: %f' % (get_acc(pred_softmax, y_train_fashion)))"
   ]
  },
  {
   "cell_type": "markdown",
   "metadata": {},
   "source": [
    "### Validate Softmax on Fashion-MNIST"
   ]
  },
  {
   "cell_type": "code",
   "execution_count": 230,
   "metadata": {},
   "outputs": [
    {
     "name": "stdout",
     "output_type": "stream",
     "text": [
      "The validation accuracy is given by: 83.150000\n"
     ]
    }
   ],
   "source": [
    "pred_softmax = softmax_fashion.predict(X_val_fashion)\n",
    "print('The validation accuracy is given by: %f' % (get_acc(pred_softmax, y_val_fashion)))"
   ]
  },
  {
   "cell_type": "markdown",
   "metadata": {},
   "source": [
    "### Testing Softmax on Fashion-MNIST"
   ]
  },
  {
   "cell_type": "code",
   "execution_count": 231,
   "metadata": {},
   "outputs": [
    {
     "name": "stdout",
     "output_type": "stream",
     "text": [
      "The testing accuracy is given by: 81.860000\n"
     ]
    }
   ],
   "source": [
    "pred_softmax = softmax_fashion.predict(X_test_fashion)\n",
    "print('The testing accuracy is given by: %f' % (get_acc(pred_softmax, y_test_fashion)))"
   ]
  },
  {
   "cell_type": "markdown",
   "metadata": {},
   "source": [
    "### Softmax_Fashion-MNIST Kaggle Submission\n",
    "\n",
    "Once you are satisfied with your solution and test accuracy output a file to submit your test set predictions to the Kaggle for Assignment 1 Fashion-MNIST. Use the following code to do so:"
   ]
  },
  {
   "cell_type": "code",
   "execution_count": 232,
   "metadata": {},
   "outputs": [],
   "source": [
    "output_submission_csv('kaggle/softmax_submission_fashion.csv', softmax_fashion.predict(X_test_fashion))"
   ]
  },
  {
   "cell_type": "markdown",
   "metadata": {},
   "source": [
    "## Train Softmax on Mushroom"
   ]
  },
  {
   "cell_type": "code",
   "execution_count": 243,
   "metadata": {},
   "outputs": [
    {
     "name": "stdout",
     "output_type": "stream",
     "text": [
      "4\n",
      "epoch: 1\n",
      "The training accuracy is: 48.297087\n",
      "epoch: 2\n",
      "The training accuracy is: 54.329093\n",
      "epoch: 3\n",
      "The training accuracy is: 69.737382\n",
      "epoch: 4\n",
      "The training accuracy is: 75.030776\n",
      "epoch: 5\n",
      "The training accuracy is: 77.164547\n",
      "epoch: 6\n",
      "The training accuracy is: 78.764875\n",
      "epoch: 7\n",
      "The training accuracy is: 81.144850\n",
      "epoch: 8\n",
      "The training accuracy is: 83.401723\n",
      "epoch: 9\n",
      "The training accuracy is: 85.514977\n",
      "epoch: 10\n",
      "The training accuracy is: 86.356176\n",
      "epoch: 11\n",
      "The training accuracy is: 86.704965\n",
      "epoch: 12\n",
      "The training accuracy is: 87.012721\n",
      "epoch: 13\n",
      "The training accuracy is: 87.176857\n",
      "epoch: 14\n",
      "The training accuracy is: 87.320476\n",
      "epoch: 15\n",
      "The training accuracy is: 87.402544\n",
      "epoch: 16\n",
      "The training accuracy is: 87.464095\n",
      "epoch: 17\n",
      "The training accuracy is: 87.484612\n",
      "epoch: 18\n",
      "The training accuracy is: 87.525646\n",
      "epoch: 19\n",
      "The training accuracy is: 87.587197\n",
      "epoch: 20\n",
      "The training accuracy is: 87.628231\n",
      "epoch: 21\n",
      "The training accuracy is: 87.669265\n",
      "epoch: 22\n",
      "The training accuracy is: 87.628231\n",
      "epoch: 23\n",
      "The training accuracy is: 87.689783\n",
      "epoch: 24\n",
      "The training accuracy is: 87.689783\n",
      "epoch: 25\n",
      "The training accuracy is: 87.710300\n",
      "epoch: 26\n",
      "The training accuracy is: 87.730817\n",
      "epoch: 27\n",
      "The training accuracy is: 87.751334\n",
      "epoch: 28\n",
      "The training accuracy is: 87.771851\n",
      "epoch: 29\n",
      "The training accuracy is: 87.792368\n",
      "epoch: 30\n",
      "The training accuracy is: 87.792368\n",
      "epoch: 31\n",
      "The training accuracy is: 87.792368\n",
      "epoch: 32\n",
      "The training accuracy is: 87.792368\n",
      "epoch: 33\n",
      "The training accuracy is: 87.792368\n",
      "epoch: 34\n",
      "The training accuracy is: 87.771851\n",
      "epoch: 35\n",
      "The training accuracy is: 87.771851\n",
      "epoch: 36\n",
      "The training accuracy is: 87.771851\n",
      "epoch: 37\n",
      "The training accuracy is: 87.771851\n",
      "epoch: 38\n",
      "The training accuracy is: 87.771851\n",
      "epoch: 39\n",
      "The training accuracy is: 87.771851\n",
      "epoch: 40\n",
      "The training accuracy is: 87.771851\n",
      "epoch: 41\n",
      "The training accuracy is: 87.771851\n",
      "epoch: 42\n",
      "The training accuracy is: 87.771851\n",
      "epoch: 43\n",
      "The training accuracy is: 87.771851\n",
      "epoch: 44\n",
      "The training accuracy is: 87.771851\n",
      "epoch: 45\n",
      "The training accuracy is: 87.771851\n",
      "epoch: 46\n",
      "The training accuracy is: 87.771851\n",
      "epoch: 47\n",
      "The training accuracy is: 87.771851\n",
      "epoch: 48\n",
      "The training accuracy is: 87.771851\n",
      "epoch: 49\n",
      "The training accuracy is: 87.771851\n",
      "epoch: 50\n",
      "The training accuracy is: 87.771851\n"
     ]
    }
   ],
   "source": [
    "lr = 0.25\n",
    "n_epochs = 50\n",
    "reg_const = 0.1\n",
    "\n",
    "softmax_MR = Softmax(n_class_MR, lr, n_epochs, reg_const)\n",
    "softmax_MR.train(X_train_MR, y_train_MR)"
   ]
  },
  {
   "cell_type": "code",
   "execution_count": 244,
   "metadata": {},
   "outputs": [
    {
     "name": "stdout",
     "output_type": "stream",
     "text": [
      "The training accuracy is given by: 87.771851\n"
     ]
    }
   ],
   "source": [
    "pred_softmax = softmax_MR.predict(X_train_MR)\n",
    "print('The training accuracy is given by: %f' % (get_acc(pred_softmax, y_train_MR)))"
   ]
  },
  {
   "cell_type": "markdown",
   "metadata": {},
   "source": [
    "### Validate Softmax on Mushroom"
   ]
  },
  {
   "cell_type": "code",
   "execution_count": 245,
   "metadata": {},
   "outputs": [
    {
     "name": "stdout",
     "output_type": "stream",
     "text": [
      "The validation accuracy is given by: 87.876923\n"
     ]
    }
   ],
   "source": [
    "pred_softmax = softmax_MR.predict(X_val_MR)\n",
    "print('The validation accuracy is given by: %f' % (get_acc(pred_softmax, y_val_MR)))"
   ]
  },
  {
   "cell_type": "markdown",
   "metadata": {},
   "source": [
    "### Testing Softmax on Mushroom"
   ]
  },
  {
   "cell_type": "code",
   "execution_count": 246,
   "metadata": {},
   "outputs": [
    {
     "name": "stdout",
     "output_type": "stream",
     "text": [
      "The testing accuracy is given by: 85.907692\n"
     ]
    }
   ],
   "source": [
    "pred_softmax = softmax_MR.predict(X_test_MR)\n",
    "print('The testing accuracy is given by: %f' % (get_acc(pred_softmax, y_test_MR)))"
   ]
  },
  {
   "cell_type": "markdown",
   "metadata": {},
   "source": [
    "# Logistic Classifier"
   ]
  },
  {
   "cell_type": "markdown",
   "metadata": {},
   "source": [
    "The Logistic Classifier has 2 hyperparameters that you can experiment with:\n",
    "- **Learning rate** - similar to as defined above in Perceptron, this parameter scales by how much the weights are changed according to the calculated gradient update. \n",
    "- **Number of Epochs** - As described for perceptron.\n",
    "- **Threshold** - The decision boundary of the classifier.\n"
   ]
  },
  {
   "cell_type": "markdown",
   "metadata": {},
   "source": [
    "You will implement the Logistic Classifier in the **models/logistic.py**\n",
    "\n",
    "The following code: \n",
    "- Creates an instance of the Logistic classifier class \n",
    "- The train function of the Logistic class is trained on the training data\n",
    "- We use the predict function to find the training accuracy as well as the testing accuracy"
   ]
  },
  {
   "cell_type": "markdown",
   "metadata": {},
   "source": [
    "### Training Logistic Classifer"
   ]
  },
  {
   "cell_type": "code",
   "execution_count": 252,
   "metadata": {},
   "outputs": [
    {
     "name": "stdout",
     "output_type": "stream",
     "text": [
      "epoch: 1\n",
      "The training accuracy is: 76.159212\n",
      "epoch: 2\n",
      "The training accuracy is: 90.459581\n",
      "epoch: 3\n",
      "The training accuracy is: 78.662290\n",
      "epoch: 4\n",
      "The training accuracy is: 81.575708\n",
      "epoch: 5\n",
      "The training accuracy is: 86.745999\n",
      "epoch: 6\n",
      "The training accuracy is: 83.278621\n",
      "epoch: 7\n",
      "The training accuracy is: 87.833402\n",
      "epoch: 8\n",
      "The training accuracy is: 85.986869\n",
      "epoch: 9\n",
      "The training accuracy is: 84.735330\n",
      "epoch: 10\n",
      "The training accuracy is: 84.878950\n",
      "epoch: 11\n",
      "The training accuracy is: 84.160854\n",
      "epoch: 12\n",
      "The training accuracy is: 87.320476\n",
      "epoch: 13\n",
      "The training accuracy is: 88.243742\n",
      "epoch: 14\n",
      "The training accuracy is: 89.762002\n",
      "epoch: 15\n",
      "The training accuracy is: 91.957325\n",
      "epoch: 16\n",
      "The training accuracy is: 90.274928\n",
      "epoch: 17\n",
      "The training accuracy is: 85.145671\n",
      "epoch: 18\n",
      "The training accuracy is: 85.535494\n",
      "epoch: 19\n",
      "The training accuracy is: 85.679114\n",
      "epoch: 20\n",
      "The training accuracy is: 86.192039\n",
      "epoch: 21\n",
      "The training accuracy is: 87.197374\n",
      "epoch: 22\n",
      "The training accuracy is: 88.715634\n",
      "epoch: 23\n",
      "The training accuracy is: 90.398030\n",
      "epoch: 24\n",
      "The training accuracy is: 91.895773\n",
      "epoch: 25\n",
      "The training accuracy is: 93.126795\n",
      "epoch: 26\n",
      "The training accuracy is: 94.009027\n",
      "epoch: 27\n",
      "The training accuracy is: 94.788675\n",
      "epoch: 28\n",
      "The training accuracy is: 95.281083\n",
      "epoch: 29\n",
      "The training accuracy is: 95.629873\n",
      "epoch: 30\n",
      "The training accuracy is: 95.896594\n",
      "epoch: 31\n",
      "The training accuracy is: 96.142799\n",
      "epoch: 32\n",
      "The training accuracy is: 96.183833\n",
      "epoch: 33\n",
      "The training accuracy is: 96.327452\n",
      "epoch: 34\n",
      "The training accuracy is: 96.327452\n",
      "epoch: 35\n",
      "The training accuracy is: 96.368486\n",
      "epoch: 36\n",
      "The training accuracy is: 96.306935\n",
      "epoch: 37\n",
      "The training accuracy is: 96.327452\n",
      "epoch: 38\n",
      "The training accuracy is: 96.327452\n",
      "epoch: 39\n",
      "The training accuracy is: 96.347969\n",
      "epoch: 40\n",
      "The training accuracy is: 96.306935\n",
      "epoch: 41\n",
      "The training accuracy is: 96.306935\n",
      "epoch: 42\n",
      "The training accuracy is: 96.265901\n",
      "epoch: 43\n",
      "The training accuracy is: 96.245384\n",
      "epoch: 44\n",
      "The training accuracy is: 96.245384\n",
      "epoch: 45\n",
      "The training accuracy is: 96.245384\n",
      "epoch: 46\n",
      "The training accuracy is: 96.183833\n",
      "epoch: 47\n",
      "The training accuracy is: 96.163316\n",
      "epoch: 48\n",
      "The training accuracy is: 96.142799\n",
      "epoch: 49\n",
      "The training accuracy is: 96.142799\n",
      "epoch: 50\n",
      "The training accuracy is: 96.163316\n",
      "epoch: 51\n",
      "The training accuracy is: 96.163316\n",
      "epoch: 52\n",
      "The training accuracy is: 96.101764\n",
      "epoch: 53\n",
      "The training accuracy is: 96.040213\n",
      "epoch: 54\n",
      "The training accuracy is: 96.081247\n",
      "epoch: 55\n",
      "The training accuracy is: 96.081247\n",
      "epoch: 56\n",
      "The training accuracy is: 96.081247\n",
      "epoch: 57\n",
      "The training accuracy is: 96.142799\n",
      "epoch: 58\n",
      "The training accuracy is: 96.101764\n",
      "epoch: 59\n",
      "The training accuracy is: 96.081247\n",
      "epoch: 60\n",
      "The training accuracy is: 96.101764\n",
      "epoch: 61\n",
      "The training accuracy is: 96.142799\n",
      "epoch: 62\n",
      "The training accuracy is: 96.163316\n",
      "epoch: 63\n",
      "The training accuracy is: 96.163316\n",
      "epoch: 64\n",
      "The training accuracy is: 96.142799\n",
      "epoch: 65\n",
      "The training accuracy is: 96.142799\n",
      "epoch: 66\n",
      "The training accuracy is: 96.163316\n",
      "epoch: 67\n",
      "The training accuracy is: 96.163316\n",
      "epoch: 68\n",
      "The training accuracy is: 96.163316\n",
      "epoch: 69\n",
      "The training accuracy is: 96.163316\n",
      "epoch: 70\n",
      "The training accuracy is: 96.183833\n",
      "epoch: 71\n",
      "The training accuracy is: 96.163316\n",
      "epoch: 72\n",
      "The training accuracy is: 96.163316\n",
      "epoch: 73\n",
      "The training accuracy is: 96.163316\n",
      "epoch: 74\n",
      "The training accuracy is: 96.163316\n",
      "epoch: 75\n",
      "The training accuracy is: 96.163316\n",
      "epoch: 76\n",
      "The training accuracy is: 96.163316\n",
      "epoch: 77\n",
      "The training accuracy is: 96.163316\n",
      "epoch: 78\n",
      "The training accuracy is: 96.142799\n",
      "epoch: 79\n",
      "The training accuracy is: 96.163316\n",
      "epoch: 80\n",
      "The training accuracy is: 96.163316\n",
      "epoch: 81\n",
      "The training accuracy is: 96.163316\n",
      "epoch: 82\n",
      "The training accuracy is: 96.163316\n",
      "epoch: 83\n",
      "The training accuracy is: 96.142799\n",
      "epoch: 84\n",
      "The training accuracy is: 96.142799\n",
      "epoch: 85\n",
      "The training accuracy is: 96.142799\n",
      "epoch: 86\n",
      "The training accuracy is: 96.142799\n",
      "epoch: 87\n",
      "The training accuracy is: 96.142799\n",
      "epoch: 88\n",
      "The training accuracy is: 96.142799\n",
      "epoch: 89\n",
      "The training accuracy is: 96.142799\n",
      "epoch: 90\n",
      "The training accuracy is: 96.163316\n",
      "epoch: 91\n",
      "The training accuracy is: 96.163316\n",
      "epoch: 92\n",
      "The training accuracy is: 96.163316\n",
      "epoch: 93\n",
      "The training accuracy is: 96.163316\n",
      "epoch: 94\n",
      "The training accuracy is: 96.163316\n",
      "epoch: 95\n",
      "The training accuracy is: 96.163316\n",
      "epoch: 96\n",
      "The training accuracy is: 96.163316\n",
      "epoch: 97\n",
      "The training accuracy is: 96.163316\n",
      "epoch: 98\n",
      "The training accuracy is: 96.163316\n",
      "epoch: 99\n",
      "The training accuracy is: 96.163316\n",
      "epoch: 100\n",
      "The training accuracy is: 96.163316\n"
     ]
    }
   ],
   "source": [
    "learning_rate = 0.25\n",
    "n_epochs = 100\n",
    "threshold = 0.5\n",
    "\n",
    "lr = Logistic(learning_rate, n_epochs, threshold)\n",
    "lr.train(X_train_MR, y_train_MR)"
   ]
  },
  {
   "cell_type": "code",
   "execution_count": 253,
   "metadata": {},
   "outputs": [
    {
     "name": "stdout",
     "output_type": "stream",
     "text": [
      "The training accuracy is given by: 96.163316\n"
     ]
    }
   ],
   "source": [
    "pred_lr = lr.predict(X_train_MR)\n",
    "print('The training accuracy is given by: %f' % (get_acc(pred_lr, y_train_MR)))"
   ]
  },
  {
   "cell_type": "markdown",
   "metadata": {},
   "source": [
    "### Validate Logistic Classifer"
   ]
  },
  {
   "cell_type": "code",
   "execution_count": 254,
   "metadata": {},
   "outputs": [
    {
     "name": "stdout",
     "output_type": "stream",
     "text": [
      "The validation accuracy is given by: 95.692308\n"
     ]
    }
   ],
   "source": [
    "pred_lr = lr.predict(X_val_MR)\n",
    "print('The validation accuracy is given by: %f' % (get_acc(pred_lr, y_val_MR)))"
   ]
  },
  {
   "cell_type": "markdown",
   "metadata": {},
   "source": [
    "### Test Logistic Classifier"
   ]
  },
  {
   "cell_type": "code",
   "execution_count": 255,
   "metadata": {},
   "outputs": [
    {
     "name": "stdout",
     "output_type": "stream",
     "text": [
      "The testing accuracy is given by: 95.446154\n"
     ]
    }
   ],
   "source": [
    "pred_lr = lr.predict(X_test_MR)\n",
    "print('The testing accuracy is given by: %f' % (get_acc(pred_lr, y_test_MR)))"
   ]
  }
 ],
 "metadata": {
  "kernelspec": {
   "display_name": "Python 3 (ipykernel)",
   "language": "python",
   "name": "python3"
  },
  "language_info": {
   "codemirror_mode": {
    "name": "ipython",
    "version": 3
   },
   "file_extension": ".py",
   "mimetype": "text/x-python",
   "name": "python",
   "nbconvert_exporter": "python",
   "pygments_lexer": "ipython3",
   "version": "3.8.12"
  }
 },
 "nbformat": 4,
 "nbformat_minor": 1
}